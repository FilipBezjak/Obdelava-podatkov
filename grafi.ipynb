{
 "cells": [
  {
   "cell_type": "code",
   "execution_count": 151,
   "metadata": {},
   "outputs": [],
   "source": [
    "import matplotlib.pyplot as plt"
   ]
  },
  {
   "cell_type": "code",
   "execution_count": 65,
   "metadata": {},
   "outputs": [],
   "source": [
    "import pandas as pd\n",
    "import os.path\n",
    "\n",
    "\n",
    "pot = os.path.join('Nova mapa','avti.csv')\n",
    "# naložimo razpredelnico, s katero bomo delali\n",
    "avti = pd.read_csv('avti.csv')\n",
    "avti5 = pd.read_csv('avti.csv')\n",
    "# ker bomo delali z velikimi razpredelnicami, povemo, da naj se vedno izpiše le 20 vrstic\n",
    "pd.options.display.max_rows = 20\n"
   ]
  },
  {
   "cell_type": "code",
   "execution_count": 6,
   "metadata": {},
   "outputs": [
    {
     "data": {
      "text/html": [
       "<div>\n",
       "<style scoped>\n",
       "    .dataframe tbody tr th:only-of-type {\n",
       "        vertical-align: middle;\n",
       "    }\n",
       "\n",
       "    .dataframe tbody tr th {\n",
       "        vertical-align: top;\n",
       "    }\n",
       "\n",
       "    .dataframe thead th {\n",
       "        text-align: right;\n",
       "    }\n",
       "</style>\n",
       "<table border=\"1\" class=\"dataframe\">\n",
       "  <thead>\n",
       "    <tr style=\"text-align: right;\">\n",
       "      <th></th>\n",
       "      <th>Znamka</th>\n",
       "      <th>Model</th>\n",
       "      <th>cena</th>\n",
       "      <th>Prevozeni Km</th>\n",
       "      <th>Prva registracija</th>\n",
       "      <th>gorivo</th>\n",
       "      <th>menjalnik</th>\n",
       "      <th>prostornina motorja</th>\n",
       "      <th>moc v KM</th>\n",
       "      <th>moc v KW</th>\n",
       "      <th>ID</th>\n",
       "    </tr>\n",
       "  </thead>\n",
       "  <tbody>\n",
       "    <tr>\n",
       "      <th>0</th>\n",
       "      <td>Opel</td>\n",
       "      <td>Astra</td>\n",
       "      <td>22990</td>\n",
       "      <td>136000</td>\n",
       "      <td>2003</td>\n",
       "      <td>bencinski motor</td>\n",
       "      <td>ročni menjalnik</td>\n",
       "      <td>1598.0</td>\n",
       "      <td>101.0</td>\n",
       "      <td>74</td>\n",
       "      <td>1</td>\n",
       "    </tr>\n",
       "    <tr>\n",
       "      <th>1</th>\n",
       "      <td>Honda</td>\n",
       "      <td>Accord</td>\n",
       "      <td>1200</td>\n",
       "      <td>246300</td>\n",
       "      <td>2002</td>\n",
       "      <td>bencinski motor</td>\n",
       "      <td>ročni menjalnik</td>\n",
       "      <td>1850.0</td>\n",
       "      <td>136.0</td>\n",
       "      <td>100</td>\n",
       "      <td>2</td>\n",
       "    </tr>\n",
       "    <tr>\n",
       "      <th>2</th>\n",
       "      <td>Volkswagen</td>\n",
       "      <td>Passat</td>\n",
       "      <td>13990</td>\n",
       "      <td>121000</td>\n",
       "      <td>2016</td>\n",
       "      <td>diesel motor</td>\n",
       "      <td>avtomatski menjalnik</td>\n",
       "      <td>1598.0</td>\n",
       "      <td>120.0</td>\n",
       "      <td>88</td>\n",
       "      <td>3</td>\n",
       "    </tr>\n",
       "    <tr>\n",
       "      <th>3</th>\n",
       "      <td>BMW</td>\n",
       "      <td>serija 3:</td>\n",
       "      <td>14490</td>\n",
       "      <td>155120</td>\n",
       "      <td>2014</td>\n",
       "      <td>diesel motor</td>\n",
       "      <td>avtomatski menjalnik</td>\n",
       "      <td>1995.0</td>\n",
       "      <td>184.0</td>\n",
       "      <td>135</td>\n",
       "      <td>4</td>\n",
       "    </tr>\n",
       "    <tr>\n",
       "      <th>4</th>\n",
       "      <td>Volkswagen</td>\n",
       "      <td>Passat</td>\n",
       "      <td>2990</td>\n",
       "      <td>232000</td>\n",
       "      <td>2008</td>\n",
       "      <td>diesel motor</td>\n",
       "      <td>ročni menjalnik</td>\n",
       "      <td>1968.0</td>\n",
       "      <td>140.0</td>\n",
       "      <td>103</td>\n",
       "      <td>5</td>\n",
       "    </tr>\n",
       "    <tr>\n",
       "      <th>...</th>\n",
       "      <td>...</td>\n",
       "      <td>...</td>\n",
       "      <td>...</td>\n",
       "      <td>...</td>\n",
       "      <td>...</td>\n",
       "      <td>...</td>\n",
       "      <td>...</td>\n",
       "      <td>...</td>\n",
       "      <td>...</td>\n",
       "      <td>...</td>\n",
       "      <td>...</td>\n",
       "    </tr>\n",
       "    <tr>\n",
       "      <th>940</th>\n",
       "      <td>Renault</td>\n",
       "      <td>Thalia</td>\n",
       "      <td>1300</td>\n",
       "      <td>133000</td>\n",
       "      <td>2004</td>\n",
       "      <td>bencinski motor</td>\n",
       "      <td>ročni menjalnik</td>\n",
       "      <td>1390.0</td>\n",
       "      <td>75.0</td>\n",
       "      <td>55</td>\n",
       "      <td>941</td>\n",
       "    </tr>\n",
       "    <tr>\n",
       "      <th>941</th>\n",
       "      <td>Volkswagen</td>\n",
       "      <td>Passat</td>\n",
       "      <td>15490</td>\n",
       "      <td>87000</td>\n",
       "      <td>2015</td>\n",
       "      <td>diesel motor</td>\n",
       "      <td>ročni menjalnik</td>\n",
       "      <td>1968.0</td>\n",
       "      <td>150.0</td>\n",
       "      <td>110</td>\n",
       "      <td>942</td>\n",
       "    </tr>\n",
       "    <tr>\n",
       "      <th>942</th>\n",
       "      <td>Chevrolet</td>\n",
       "      <td>Cruze</td>\n",
       "      <td>3990</td>\n",
       "      <td>118000</td>\n",
       "      <td>2010</td>\n",
       "      <td>bencinski motor</td>\n",
       "      <td>ročni menjalnik</td>\n",
       "      <td>1796.0</td>\n",
       "      <td>141.0</td>\n",
       "      <td>104</td>\n",
       "      <td>943</td>\n",
       "    </tr>\n",
       "    <tr>\n",
       "      <th>943</th>\n",
       "      <td>Mercedes-Benz</td>\n",
       "      <td>C-Razred</td>\n",
       "      <td>20490</td>\n",
       "      <td>110000</td>\n",
       "      <td>2015</td>\n",
       "      <td>diesel motor</td>\n",
       "      <td>avtomatski menjalnik</td>\n",
       "      <td>2143.0</td>\n",
       "      <td>170.0</td>\n",
       "      <td>125</td>\n",
       "      <td>944</td>\n",
       "    </tr>\n",
       "    <tr>\n",
       "      <th>944</th>\n",
       "      <td>BMW</td>\n",
       "      <td>serija 7:</td>\n",
       "      <td>6490</td>\n",
       "      <td>275000</td>\n",
       "      <td>2005</td>\n",
       "      <td>bencinski motor</td>\n",
       "      <td>avtomatski menjalnik</td>\n",
       "      <td>4000.0</td>\n",
       "      <td>306.0</td>\n",
       "      <td>225</td>\n",
       "      <td>945</td>\n",
       "    </tr>\n",
       "  </tbody>\n",
       "</table>\n",
       "<p>945 rows × 11 columns</p>\n",
       "</div>"
      ],
      "text/plain": [
       "            Znamka      Model   cena  Prevozeni Km  Prva registracija  \\\n",
       "0             Opel      Astra  22990        136000               2003   \n",
       "1            Honda     Accord   1200        246300               2002   \n",
       "2       Volkswagen     Passat  13990        121000               2016   \n",
       "3              BMW  serija 3:  14490        155120               2014   \n",
       "4       Volkswagen     Passat   2990        232000               2008   \n",
       "..             ...        ...    ...           ...                ...   \n",
       "940        Renault     Thalia   1300        133000               2004   \n",
       "941     Volkswagen     Passat  15490         87000               2015   \n",
       "942      Chevrolet      Cruze   3990        118000               2010   \n",
       "943  Mercedes-Benz   C-Razred  20490        110000               2015   \n",
       "944            BMW  serija 7:   6490        275000               2005   \n",
       "\n",
       "              gorivo             menjalnik  prostornina motorja  moc v KM  \\\n",
       "0    bencinski motor       ročni menjalnik               1598.0     101.0   \n",
       "1    bencinski motor       ročni menjalnik               1850.0     136.0   \n",
       "2       diesel motor  avtomatski menjalnik               1598.0     120.0   \n",
       "3       diesel motor  avtomatski menjalnik               1995.0     184.0   \n",
       "4       diesel motor       ročni menjalnik               1968.0     140.0   \n",
       "..               ...                   ...                  ...       ...   \n",
       "940  bencinski motor       ročni menjalnik               1390.0      75.0   \n",
       "941     diesel motor       ročni menjalnik               1968.0     150.0   \n",
       "942  bencinski motor       ročni menjalnik               1796.0     141.0   \n",
       "943     diesel motor  avtomatski menjalnik               2143.0     170.0   \n",
       "944  bencinski motor  avtomatski menjalnik               4000.0     306.0   \n",
       "\n",
       "     moc v KW   ID  \n",
       "0          74    1  \n",
       "1         100    2  \n",
       "2          88    3  \n",
       "3         135    4  \n",
       "4         103    5  \n",
       "..        ...  ...  \n",
       "940        55  941  \n",
       "941       110  942  \n",
       "942       104  943  \n",
       "943       125  944  \n",
       "944       225  945  \n",
       "\n",
       "[945 rows x 11 columns]"
      ]
     },
     "execution_count": 6,
     "metadata": {},
     "output_type": "execute_result"
    }
   ],
   "source": [
    "\n",
    "avti\n"
   ]
  },
  {
   "cell_type": "code",
   "execution_count": 80,
   "metadata": {},
   "outputs": [
    {
     "data": {
      "text/html": [
       "<div>\n",
       "<style scoped>\n",
       "    .dataframe tbody tr th:only-of-type {\n",
       "        vertical-align: middle;\n",
       "    }\n",
       "\n",
       "    .dataframe tbody tr th {\n",
       "        vertical-align: top;\n",
       "    }\n",
       "\n",
       "    .dataframe thead th {\n",
       "        text-align: right;\n",
       "    }\n",
       "</style>\n",
       "<table border=\"1\" class=\"dataframe\">\n",
       "  <thead>\n",
       "    <tr style=\"text-align: right;\">\n",
       "      <th></th>\n",
       "      <th>Znamka</th>\n",
       "      <th>Model</th>\n",
       "      <th>cena</th>\n",
       "      <th>Prevozeni Km</th>\n",
       "      <th>Prva registracija</th>\n",
       "      <th>gorivo</th>\n",
       "      <th>menjalnik</th>\n",
       "      <th>prostornina motorja</th>\n",
       "      <th>moc v KM</th>\n",
       "      <th>moc v KW</th>\n",
       "      <th>ID</th>\n",
       "      <th>petletje</th>\n",
       "    </tr>\n",
       "  </thead>\n",
       "  <tbody>\n",
       "    <tr>\n",
       "      <th>682</th>\n",
       "      <td>Cadillac</td>\n",
       "      <td>DeVille</td>\n",
       "      <td>5000</td>\n",
       "      <td>100000</td>\n",
       "      <td>1972</td>\n",
       "      <td>bencinski motor</td>\n",
       "      <td>avtomatski menjalnik</td>\n",
       "      <td>7777.0</td>\n",
       "      <td>204.0</td>\n",
       "      <td>150</td>\n",
       "      <td>683</td>\n",
       "      <td>1970</td>\n",
       "    </tr>\n",
       "    <tr>\n",
       "      <th>139</th>\n",
       "      <td>Volkswagen</td>\n",
       "      <td>Hroč</td>\n",
       "      <td>6200</td>\n",
       "      <td>56000</td>\n",
       "      <td>1973</td>\n",
       "      <td>bencinski motor</td>\n",
       "      <td>ročni menjalnik</td>\n",
       "      <td>NaN</td>\n",
       "      <td>46.0</td>\n",
       "      <td>34</td>\n",
       "      <td>140</td>\n",
       "      <td>1970</td>\n",
       "    </tr>\n",
       "  </tbody>\n",
       "</table>\n",
       "</div>"
      ],
      "text/plain": [
       "         Znamka    Model  cena  Prevozeni Km  Prva registracija  \\\n",
       "682    Cadillac  DeVille  5000        100000               1972   \n",
       "139  Volkswagen    Hroč  6200         56000               1973   \n",
       "\n",
       "              gorivo             menjalnik  prostornina motorja  moc v KM  \\\n",
       "682  bencinski motor  avtomatski menjalnik               7777.0     204.0   \n",
       "139  bencinski motor       ročni menjalnik                  NaN      46.0   \n",
       "\n",
       "     moc v KW   ID  petletje  \n",
       "682       150  683      1970  \n",
       "139        34  140      1970  "
      ]
     },
     "execution_count": 80,
     "metadata": {},
     "output_type": "execute_result"
    }
   ],
   "source": [
    "\n"
   ]
  },
  {
   "cell_type": "code",
   "execution_count": 69,
   "metadata": {},
   "outputs": [
    {
     "data": {
      "text/html": [
       "<div>\n",
       "<style scoped>\n",
       "    .dataframe tbody tr th:only-of-type {\n",
       "        vertical-align: middle;\n",
       "    }\n",
       "\n",
       "    .dataframe tbody tr th {\n",
       "        vertical-align: top;\n",
       "    }\n",
       "\n",
       "    .dataframe thead th {\n",
       "        text-align: right;\n",
       "    }\n",
       "</style>\n",
       "<table border=\"1\" class=\"dataframe\">\n",
       "  <thead>\n",
       "    <tr style=\"text-align: right;\">\n",
       "      <th></th>\n",
       "      <th>Znamka</th>\n",
       "      <th>Model</th>\n",
       "      <th>cena</th>\n",
       "      <th>Prevozeni Km</th>\n",
       "      <th>Prva registracija</th>\n",
       "      <th>gorivo</th>\n",
       "      <th>menjalnik</th>\n",
       "      <th>prostornina motorja</th>\n",
       "      <th>moc v KM</th>\n",
       "      <th>moc v KW</th>\n",
       "      <th>ID</th>\n",
       "    </tr>\n",
       "  </thead>\n",
       "  <tbody>\n",
       "    <tr>\n",
       "      <th>0</th>\n",
       "      <td>Opel</td>\n",
       "      <td>Astra</td>\n",
       "      <td>22990</td>\n",
       "      <td>136000</td>\n",
       "      <td>2003</td>\n",
       "      <td>bencinski motor</td>\n",
       "      <td>ročni menjalnik</td>\n",
       "      <td>1598.0</td>\n",
       "      <td>101.0</td>\n",
       "      <td>74</td>\n",
       "      <td>1</td>\n",
       "    </tr>\n",
       "    <tr>\n",
       "      <th>1</th>\n",
       "      <td>Honda</td>\n",
       "      <td>Accord</td>\n",
       "      <td>1200</td>\n",
       "      <td>246300</td>\n",
       "      <td>2002</td>\n",
       "      <td>bencinski motor</td>\n",
       "      <td>ročni menjalnik</td>\n",
       "      <td>1850.0</td>\n",
       "      <td>136.0</td>\n",
       "      <td>100</td>\n",
       "      <td>2</td>\n",
       "    </tr>\n",
       "    <tr>\n",
       "      <th>2</th>\n",
       "      <td>Volkswagen</td>\n",
       "      <td>Passat</td>\n",
       "      <td>13990</td>\n",
       "      <td>121000</td>\n",
       "      <td>2016</td>\n",
       "      <td>diesel motor</td>\n",
       "      <td>avtomatski menjalnik</td>\n",
       "      <td>1598.0</td>\n",
       "      <td>120.0</td>\n",
       "      <td>88</td>\n",
       "      <td>3</td>\n",
       "    </tr>\n",
       "    <tr>\n",
       "      <th>3</th>\n",
       "      <td>BMW</td>\n",
       "      <td>serija 3:</td>\n",
       "      <td>14490</td>\n",
       "      <td>155120</td>\n",
       "      <td>2014</td>\n",
       "      <td>diesel motor</td>\n",
       "      <td>avtomatski menjalnik</td>\n",
       "      <td>1995.0</td>\n",
       "      <td>184.0</td>\n",
       "      <td>135</td>\n",
       "      <td>4</td>\n",
       "    </tr>\n",
       "    <tr>\n",
       "      <th>4</th>\n",
       "      <td>Volkswagen</td>\n",
       "      <td>Passat</td>\n",
       "      <td>2990</td>\n",
       "      <td>232000</td>\n",
       "      <td>2008</td>\n",
       "      <td>diesel motor</td>\n",
       "      <td>ročni menjalnik</td>\n",
       "      <td>1968.0</td>\n",
       "      <td>140.0</td>\n",
       "      <td>103</td>\n",
       "      <td>5</td>\n",
       "    </tr>\n",
       "    <tr>\n",
       "      <th>...</th>\n",
       "      <td>...</td>\n",
       "      <td>...</td>\n",
       "      <td>...</td>\n",
       "      <td>...</td>\n",
       "      <td>...</td>\n",
       "      <td>...</td>\n",
       "      <td>...</td>\n",
       "      <td>...</td>\n",
       "      <td>...</td>\n",
       "      <td>...</td>\n",
       "      <td>...</td>\n",
       "    </tr>\n",
       "    <tr>\n",
       "      <th>940</th>\n",
       "      <td>Renault</td>\n",
       "      <td>Thalia</td>\n",
       "      <td>1300</td>\n",
       "      <td>133000</td>\n",
       "      <td>2004</td>\n",
       "      <td>bencinski motor</td>\n",
       "      <td>ročni menjalnik</td>\n",
       "      <td>1390.0</td>\n",
       "      <td>75.0</td>\n",
       "      <td>55</td>\n",
       "      <td>941</td>\n",
       "    </tr>\n",
       "    <tr>\n",
       "      <th>941</th>\n",
       "      <td>Volkswagen</td>\n",
       "      <td>Passat</td>\n",
       "      <td>15490</td>\n",
       "      <td>87000</td>\n",
       "      <td>2015</td>\n",
       "      <td>diesel motor</td>\n",
       "      <td>ročni menjalnik</td>\n",
       "      <td>1968.0</td>\n",
       "      <td>150.0</td>\n",
       "      <td>110</td>\n",
       "      <td>942</td>\n",
       "    </tr>\n",
       "    <tr>\n",
       "      <th>942</th>\n",
       "      <td>Chevrolet</td>\n",
       "      <td>Cruze</td>\n",
       "      <td>3990</td>\n",
       "      <td>118000</td>\n",
       "      <td>2010</td>\n",
       "      <td>bencinski motor</td>\n",
       "      <td>ročni menjalnik</td>\n",
       "      <td>1796.0</td>\n",
       "      <td>141.0</td>\n",
       "      <td>104</td>\n",
       "      <td>943</td>\n",
       "    </tr>\n",
       "    <tr>\n",
       "      <th>943</th>\n",
       "      <td>Mercedes-Benz</td>\n",
       "      <td>C-Razred</td>\n",
       "      <td>20490</td>\n",
       "      <td>110000</td>\n",
       "      <td>2015</td>\n",
       "      <td>diesel motor</td>\n",
       "      <td>avtomatski menjalnik</td>\n",
       "      <td>2143.0</td>\n",
       "      <td>170.0</td>\n",
       "      <td>125</td>\n",
       "      <td>944</td>\n",
       "    </tr>\n",
       "    <tr>\n",
       "      <th>944</th>\n",
       "      <td>BMW</td>\n",
       "      <td>serija 7:</td>\n",
       "      <td>6490</td>\n",
       "      <td>275000</td>\n",
       "      <td>2005</td>\n",
       "      <td>bencinski motor</td>\n",
       "      <td>avtomatski menjalnik</td>\n",
       "      <td>4000.0</td>\n",
       "      <td>306.0</td>\n",
       "      <td>225</td>\n",
       "      <td>945</td>\n",
       "    </tr>\n",
       "  </tbody>\n",
       "</table>\n",
       "<p>945 rows × 11 columns</p>\n",
       "</div>"
      ],
      "text/plain": [
       "            Znamka      Model   cena  Prevozeni Km  Prva registracija  \\\n",
       "0             Opel      Astra  22990        136000               2003   \n",
       "1            Honda     Accord   1200        246300               2002   \n",
       "2       Volkswagen     Passat  13990        121000               2016   \n",
       "3              BMW  serija 3:  14490        155120               2014   \n",
       "4       Volkswagen     Passat   2990        232000               2008   \n",
       "..             ...        ...    ...           ...                ...   \n",
       "940        Renault     Thalia   1300        133000               2004   \n",
       "941     Volkswagen     Passat  15490         87000               2015   \n",
       "942      Chevrolet      Cruze   3990        118000               2010   \n",
       "943  Mercedes-Benz   C-Razred  20490        110000               2015   \n",
       "944            BMW  serija 7:   6490        275000               2005   \n",
       "\n",
       "              gorivo             menjalnik  prostornina motorja  moc v KM  \\\n",
       "0    bencinski motor       ročni menjalnik               1598.0     101.0   \n",
       "1    bencinski motor       ročni menjalnik               1850.0     136.0   \n",
       "2       diesel motor  avtomatski menjalnik               1598.0     120.0   \n",
       "3       diesel motor  avtomatski menjalnik               1995.0     184.0   \n",
       "4       diesel motor       ročni menjalnik               1968.0     140.0   \n",
       "..               ...                   ...                  ...       ...   \n",
       "940  bencinski motor       ročni menjalnik               1390.0      75.0   \n",
       "941     diesel motor       ročni menjalnik               1968.0     150.0   \n",
       "942  bencinski motor       ročni menjalnik               1796.0     141.0   \n",
       "943     diesel motor  avtomatski menjalnik               2143.0     170.0   \n",
       "944  bencinski motor  avtomatski menjalnik               4000.0     306.0   \n",
       "\n",
       "     moc v KW   ID  \n",
       "0          74    1  \n",
       "1         100    2  \n",
       "2          88    3  \n",
       "3         135    4  \n",
       "4         103    5  \n",
       "..        ...  ...  \n",
       "940        55  941  \n",
       "941       110  942  \n",
       "942       104  943  \n",
       "943       125  944  \n",
       "944       225  945  \n",
       "\n",
       "[945 rows x 11 columns]"
      ]
     },
     "execution_count": 69,
     "metadata": {},
     "output_type": "execute_result"
    }
   ],
   "source": [
    "avti5['petletje'] = 5 * (avti['Prva registracija'] // 5)"
   ]
  },
  {
   "cell_type": "code",
   "execution_count": null,
   "metadata": {},
   "outputs": [],
   "source": [
    "Poglejmo kako se je spreminjala prostornina motorja čez leta"
   ]
  },
  {
   "cell_type": "code",
   "execution_count": 81,
   "metadata": {},
   "outputs": [
    {
     "data": {
      "text/plain": [
       "<AxesSubplot:xlabel='petletje'>"
      ]
     },
     "execution_count": 81,
     "metadata": {},
     "output_type": "execute_result"
    },
    {
     "data": {
      "image/png": "[encoded data removed]",
      "text/plain": [
       "<Figure size 432x288 with 1 Axes>"
      ]
     },
     "metadata": {
      "needs_background": "light"
     },
     "output_type": "display_data"
    }
   ],
   "source": [
    "\n",
    "avti5.groupby('petletje').mean()['prostornina motorja'].plot.bar()"
   ]
  },
  {
   "cell_type": "markdown",
   "metadata": {},
   "source": [
    "Prostornina motorja se čez leta ne spreminja. Samo en avto v petletju 1970 ima navedeno prostornino motorja in je enaka 7777, \n",
    "zato je v tem letu tako odstopanje."
   ]
  },
  {
   "cell_type": "code",
   "execution_count": 82,
   "metadata": {},
   "outputs": [
    {
     "data": {
      "text/html": [
       "<div>\n",
       "<style scoped>\n",
       "    .dataframe tbody tr th:only-of-type {\n",
       "        vertical-align: middle;\n",
       "    }\n",
       "\n",
       "    .dataframe tbody tr th {\n",
       "        vertical-align: top;\n",
       "    }\n",
       "\n",
       "    .dataframe thead th {\n",
       "        text-align: right;\n",
       "    }\n",
       "</style>\n",
       "<table border=\"1\" class=\"dataframe\">\n",
       "  <thead>\n",
       "    <tr style=\"text-align: right;\">\n",
       "      <th></th>\n",
       "      <th>Znamka</th>\n",
       "      <th>Model</th>\n",
       "      <th>cena</th>\n",
       "      <th>Prevozeni Km</th>\n",
       "      <th>Prva registracija</th>\n",
       "      <th>gorivo</th>\n",
       "      <th>menjalnik</th>\n",
       "      <th>prostornina motorja</th>\n",
       "      <th>moc v KM</th>\n",
       "      <th>moc v KW</th>\n",
       "      <th>ID</th>\n",
       "      <th>petletje</th>\n",
       "    </tr>\n",
       "  </thead>\n",
       "  <tbody>\n",
       "    <tr>\n",
       "      <th>682</th>\n",
       "      <td>Cadillac</td>\n",
       "      <td>DeVille</td>\n",
       "      <td>5000</td>\n",
       "      <td>100000</td>\n",
       "      <td>1972</td>\n",
       "      <td>bencinski motor</td>\n",
       "      <td>avtomatski menjalnik</td>\n",
       "      <td>7777.0</td>\n",
       "      <td>204.0</td>\n",
       "      <td>150</td>\n",
       "      <td>683</td>\n",
       "      <td>1970</td>\n",
       "    </tr>\n",
       "    <tr>\n",
       "      <th>139</th>\n",
       "      <td>Volkswagen</td>\n",
       "      <td>Hroč</td>\n",
       "      <td>6200</td>\n",
       "      <td>56000</td>\n",
       "      <td>1973</td>\n",
       "      <td>bencinski motor</td>\n",
       "      <td>ročni menjalnik</td>\n",
       "      <td>NaN</td>\n",
       "      <td>46.0</td>\n",
       "      <td>34</td>\n",
       "      <td>140</td>\n",
       "      <td>1970</td>\n",
       "    </tr>\n",
       "  </tbody>\n",
       "</table>\n",
       "</div>"
      ],
      "text/plain": [
       "         Znamka    Model  cena  Prevozeni Km  Prva registracija  \\\n",
       "682    Cadillac  DeVille  5000        100000               1972   \n",
       "139  Volkswagen    Hroč  6200         56000               1973   \n",
       "\n",
       "              gorivo             menjalnik  prostornina motorja  moc v KM  \\\n",
       "682  bencinski motor  avtomatski menjalnik               7777.0     204.0   \n",
       "139  bencinski motor       ročni menjalnik                  NaN      46.0   \n",
       "\n",
       "     moc v KW   ID  petletje  \n",
       "682       150  683      1970  \n",
       "139        34  140      1970  "
      ]
     },
     "execution_count": 82,
     "metadata": {},
     "output_type": "execute_result"
    }
   ],
   "source": [
    "avti5[avti5.petletje == 1970].sort_values('prostornina motorja', ascending='True')"
   ]
  },
  {
   "cell_type": "markdown",
   "metadata": {},
   "source": [
    "Poglejmo še spreminjanje moči motorja"
   ]
  },
  {
   "cell_type": "code",
   "execution_count": 78,
   "metadata": {},
   "outputs": [
    {
     "data": {
      "text/plain": [
       "<AxesSubplot:xlabel='petletje'>"
      ]
     },
     "execution_count": 78,
     "metadata": {},
     "output_type": "execute_result"
    },
    {
     "data": {
      "image/png": "[encoded data removed]",
      "text/plain": [
       "<Figure size 432x288 with 1 Axes>"
      ]
     },
     "metadata": {
      "needs_background": "light"
     },
     "output_type": "display_data"
    }
   ],
   "source": [
    "avti5.groupby('petletje').mean()['moc v KM'].plot.bar()"
   ]
  },
  {
   "cell_type": "markdown",
   "metadata": {},
   "source": [
    "Vidimo, da se čez leta viša. odstopanja v petletju 1965 in 1970 so iz istih razlogov, kot pri prejšnem grafu."
   ]
  },
  {
   "cell_type": "markdown",
   "metadata": {},
   "source": [
    "Spreminjanje goriva v avtih čez leta"
   ]
  },
  {
   "cell_type": "code",
   "execution_count": 182,
   "metadata": {},
   "outputs": [
    {
     "data": {
      "image/png": "[encoded data removed]",
      "text/plain": [
       "<Figure size 432x288 with 1 Axes>"
      ]
     },
     "metadata": {
      "needs_background": "light"
     },
     "output_type": "display_data"
    }
   ],
   "source": [
    "a = avti[avti.gorivo=='bencinski motor'].groupby('Prva registracija').size().plot(legend=True)\n",
    "b = avti[avti.gorivo=='LPG avtoplin'].groupby('Prva registracija').gorivo.count().plot(legend=True)\n",
    "c = avti[avti.gorivo=='diesel motor'].groupby('Prva registracija').ID.count().plot(legend=True)\n",
    "d = avti[avti.gorivo=='elektro pogon'].groupby('Prva registracija').ID.count().plot(legend=True)\n",
    "e = avti[avti.gorivo=='hibridni pogon'].groupby('Prva registracija').ID.count().plot(legend=True)\n",
    "f = avti[avti.gorivo=='plin'].groupby('Prva registracija').ID.count().plot(legend=True, xlabel='Leto prve registracije', ylabel='število oglasov').legend(['bencin', 'LPG', 'diesel', 'elektro','hibrid','plin'])\n"
   ]
  },
  {
   "cell_type": "code",
   "execution_count": 183,
   "metadata": {},
   "outputs": [
    {
     "data": {
      "image/png": "[encoded data removed]",
      "text/plain": [
       "<Figure size 432x288 with 1 Axes>"
      ]
     },
     "metadata": {
      "needs_background": "light"
     },
     "output_type": "display_data"
    }
   ],
   "source": [
    "a = avti[(avti.gorivo=='bencinski motor') & (avti['Prva registracija'] > 1980)].groupby('Prva registracija').size().plot(legend=True)\n",
    "b = avti[avti.gorivo=='LPG avtoplin'].groupby('Prva registracija').gorivo.count().plot(legend=True)\n",
    "c = avti[avti.gorivo=='diesel motor'].groupby('Prva registracija').ID.count().plot(legend=True)\n",
    "d = avti[avti.gorivo=='elektro pogon'].groupby('Prva registracija').ID.count().plot(legend=True)\n",
    "e = avti[avti.gorivo=='hibridni pogon'].groupby('Prva registracija').ID.count().plot(legend=True)\n",
    "f = avti[avti.gorivo=='plin'].groupby('Prva registracija').ID.count().plot(legend=True, xlabel='Leto prve registracije', ylabel='število oglasov').legend(['bencin', 'LPG', 'diesel', 'elektro','hibrid','plin'])\n"
   ]
  },
  {
   "cell_type": "code",
   "execution_count": null,
   "metadata": {},
   "outputs": [],
   "source": [
    "Cena v odvisnosti od leta prve registracije"
   ]
  },
  {
   "cell_type": "code",
   "execution_count": 174,
   "metadata": {},
   "outputs": [
    {
     "data": {
      "text/plain": [
       "<AxesSubplot:xlabel='Leto prve registracije', ylabel='Cena v €'>"
      ]
     },
     "execution_count": 174,
     "metadata": {},
     "output_type": "execute_result"
    },
    {
     "data": {
      "image/png": "[encoded data removed]",
      "text/plain": [
       "<Figure size 432x288 with 1 Axes>"
      ]
     },
     "metadata": {
      "needs_background": "light"
     },
     "output_type": "display_data"
    }
   ],
   "source": [
    "avti.groupby('Prva registracija').mean().cena.plot(xlabel='Leto prve registracije', ylabel='Cena v €')"
   ]
  },
  {
   "cell_type": "markdown",
   "metadata": {},
   "source": [
    "Ni presenetljivo, da so novejši avti dražji."
   ]
  },
  {
   "cell_type": "markdown",
   "metadata": {},
   "source": [
    "\n",
    "Še graf spreminjanja cene od leta 2000 naprej."
   ]
  },
  {
   "cell_type": "code",
   "execution_count": 175,
   "metadata": {},
   "outputs": [
    {
     "data": {
      "text/plain": [
       "<AxesSubplot:xlabel='Leto prve registracije', ylabel='Cena v €'>"
      ]
     },
     "execution_count": 175,
     "metadata": {},
     "output_type": "execute_result"
    },
    {
     "data": {
      "image/png": "[encoded data removed]",
      "text/plain": [
       "<Figure size 432x288 with 1 Axes>"
      ]
     },
     "metadata": {
      "needs_background": "light"
     },
     "output_type": "display_data"
    }
   ],
   "source": [
    "avti[avti['Prva registracija'] > 2000].groupby('Prva registracija').mean().cena.plot(xlabel='Leto prve registracije', ylabel='Cena v €')"
   ]
  },
  {
   "cell_type": "markdown",
   "metadata": {},
   "source": [
    "Število oglasov glede na leto prve registracije."
   ]
  },
  {
   "cell_type": "code",
   "execution_count": 184,
   "metadata": {},
   "outputs": [
    {
     "data": {
      "text/plain": [
       "<AxesSubplot:xlabel='Leto prve registracije', ylabel='število oglasov'>"
      ]
     },
     "execution_count": 184,
     "metadata": {},
     "output_type": "execute_result"
    },
    {
     "data": {
      "image/png": "[encoded data removed]",
      "text/plain": [
       "<Figure size 432x288 with 1 Axes>"
      ]
     },
     "metadata": {
      "needs_background": "light"
     },
     "output_type": "display_data"
    }
   ],
   "source": [
    "avti5.groupby('Prva registracija').size().plot(xlabel='Leto prve registracije', ylabel='število oglasov')"
   ]
  },
  {
   "cell_type": "code",
   "execution_count": 185,
   "metadata": {},
   "outputs": [
    {
     "data": {
      "text/plain": [
       "<AxesSubplot:xlabel='Leto prve registracije', ylabel='število oglasov'>"
      ]
     },
     "execution_count": 185,
     "metadata": {},
     "output_type": "execute_result"
    },
    {
     "data": {
      "image/png": "[encoded data removed]",
      "text/plain": [
       "<Figure size 432x288 with 1 Axes>"
      ]
     },
     "metadata": {
      "needs_background": "light"
     },
     "output_type": "display_data"
    }
   ],
   "source": [
    "avti5[avti5['petletje']>1968].groupby('petletje').size().plot.bar(xlabel='Leto prve registracije', ylabel='število oglasov')"
   ]
  },
  {
   "cell_type": "markdown",
   "metadata": {},
   "source": [
    "Največ avtov je letnik med 2000 in 2015 "
   ]
  },
  {
   "cell_type": "markdown",
   "metadata": {},
   "source": [
    "Število oglasov avtov, glede na letnik-"
   ]
  },
  {
   "cell_type": "code",
   "execution_count": 177,
   "metadata": {},
   "outputs": [
    {
     "data": {
      "text/plain": [
       "<AxesSubplot:xlabel='Leto prve registracije', ylabel='število oglasov'>"
      ]
     },
     "execution_count": 177,
     "metadata": {},
     "output_type": "execute_result"
    },
    {
     "data": {
      "image/png": "[encoded data removed]",
      "text/plain": [
       "<Figure size 432x288 with 1 Axes>"
      ]
     },
     "metadata": {
      "needs_background": "light"
     },
     "output_type": "display_data"
    }
   ],
   "source": [
    "avti.groupby('Prva registracija').size().sort_values().tail(n=10).plot.bar(xlabel='Leto prve registracije', ylabel='število oglasov')"
   ]
  },
  {
   "cell_type": "markdown",
   "metadata": {},
   "source": [
    "Odvisnost povprečne cene avta, od moči motorja"
   ]
  },
  {
   "cell_type": "code",
   "execution_count": 196,
   "metadata": {},
   "outputs": [],
   "source": [
    "avti5['moc na 50 KM'] = (avti['moc v KM'] // 50) * 50\n",
    "avti5['prostornina na 100'] = (avti['prostornina motorja'] // 100) * 100"
   ]
  },
  {
   "cell_type": "code",
   "execution_count": 197,
   "metadata": {},
   "outputs": [
    {
     "data": {
      "text/plain": [
       "<AxesSubplot:xlabel='Moč motorja v KM', ylabel='cena v €'>"
      ]
     },
     "execution_count": 197,
     "metadata": {},
     "output_type": "execute_result"
    },
    {
     "data": {
      "image/png": "[encoded data removed]",
      "text/plain": [
       "<Figure size 432x288 with 1 Axes>"
      ]
     },
     "metadata": {
      "needs_background": "light"
     },
     "output_type": "display_data"
    }
   ],
   "source": [
    "avti5.groupby('moc na 50 KM').cena.mean().plot.bar(xlabel='Moč motorja v KM', ylabel='cena v €')"
   ]
  },
  {
   "cell_type": "code",
   "execution_count": 193,
   "metadata": {},
   "outputs": [],
   "source": [
    "avti5['prevozeni na 10000'] = (avti['Prevozeni Km'] // 40000) * 40000 + 40000"
   ]
  },
  {
   "cell_type": "markdown",
   "metadata": {},
   "source": [
    "Odvisnost cene avta od prevoženih kilometrov"
   ]
  },
  {
   "cell_type": "code",
   "execution_count": 194,
   "metadata": {},
   "outputs": [
    {
     "data": {
      "text/plain": [
       "<AxesSubplot:xlabel='Moč motorja v KM', ylabel='cena v €'>"
      ]
     },
     "execution_count": 194,
     "metadata": {},
     "output_type": "execute_result"
    },
    {
     "data": {
      "image/png": "[encoded data removed]",
      "text/plain": [
       "<Figure size 432x288 with 1 Axes>"
      ]
     },
     "metadata": {
      "needs_background": "light"
     },
     "output_type": "display_data"
    }
   ],
   "source": [
    "avti5.groupby('prevozeni na 10000').cena.mean().plot.bar(xlabel='Moč motorja v KM', ylabel='cena v €')"
   ]
  },
  {
   "cell_type": "code",
   "execution_count": null,
   "metadata": {},
   "outputs": [],
   "source": []
  }
 ],
 "metadata": {
  "kernelspec": {
   "display_name": "Python 3",
   "language": "python",
   "name": "python3"
  },
  "language_info": {
   "codemirror_mode": {
    "name": "ipython",
    "version": 3
   },
   "file_extension": ".py",
   "mimetype": "text/x-python",
   "name": "python",
   "nbconvert_exporter": "python",
   "pygments_lexer": "ipython3",
   "version": "3.8.6"
  }
 },
 "nbformat": 4,
 "nbformat_minor": 2
}
